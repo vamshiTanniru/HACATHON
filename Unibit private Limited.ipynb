{
 "cells": [
  {
   "cell_type": "code",
   "execution_count": 2,
   "id": "a311b32f",
   "metadata": {
    "ExecuteTime": {
     "end_time": "2023-07-09T03:01:25.493650Z",
     "start_time": "2023-07-09T03:01:25.477195Z"
    }
   },
   "outputs": [
    {
     "name": "stdout",
     "output_type": "stream",
     "text": [
      "First Combination For \"4\" : [[3, 1], [2, 2], [8, -4]]\n",
      "Merged Array: [-6, -4, -2, 1, 2, 2, 3, 8]\n",
      "Second Combination For \"8\" : [[-4, 1, 3, 8], [-4, 2, 2, 8], [1, 2, 2, 3]]\n"
     ]
    }
   ],
   "source": [
    "from itertools import combinations\n",
    "def find_pairs(arr, target):\n",
    "    pairs = []\n",
    "    hash_map = {}\n",
    "\n",
    "    for i in range(len(arr)):\n",
    "        complement = target - arr[i]\n",
    "\n",
    "        if complement in hash_map:\n",
    "            pairs.append([arr[i], complement])\n",
    "\n",
    "        hash_map[arr[i]] = i\n",
    "\n",
    "    return pairs\n",
    "\n",
    "def merge_sort(arr):\n",
    "    if len(arr) <= 1:\n",
    "        return arr\n",
    "\n",
    "    mid = len(arr) // 2\n",
    "    left = arr[:mid]\n",
    "    right = arr[mid:]\n",
    "\n",
    "    return merge(merge_sort(left), merge_sort(right))\n",
    "\n",
    "def double_target(arr, target):\n",
    "    combinations_four = []\n",
    "\n",
    "    for combo in combinations(arr, 4):\n",
    "        if sum(combo) == target:\n",
    "            combinations_four.append(list(combo))\n",
    "\n",
    "    return combinations_four\n",
    "\n",
    "arr = [1, 3, 2, 2, -4, -6, -2, 8]\n",
    "target = 4\n",
    "\n",
    "pairs = find_pairs(arr, target)\n",
    "print(f'First Combination For \"{target}\" : {pairs}')\n",
    "\n",
    "merged_array = merge_sort(arr)\n",
    "print(f'Merged Array: {merged_array}')\n",
    "\n",
    "double_target_pairs = double_target(merged_array, target*2)\n",
    "print(f'Second Combination For \"{target*2}\" : {double_target_pairs}')"
   ]
  },
  {
   "cell_type": "code",
   "execution_count": null,
   "id": "f8823c00",
   "metadata": {},
   "outputs": [],
   "source": []
  }
 ],
 "metadata": {
  "kernelspec": {
   "display_name": "Python 3 (ipykernel)",
   "language": "python",
   "name": "python3"
  },
  "language_info": {
   "codemirror_mode": {
    "name": "ipython",
    "version": 3
   },
   "file_extension": ".py",
   "mimetype": "text/x-python",
   "name": "python",
   "nbconvert_exporter": "python",
   "pygments_lexer": "ipython3",
   "version": "3.9.12"
  }
 },
 "nbformat": 4,
 "nbformat_minor": 5
}
